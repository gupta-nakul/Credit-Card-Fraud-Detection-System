{
 "cells": [
  {
   "cell_type": "code",
   "execution_count": 1,
   "metadata": {},
   "outputs": [],
   "source": [
    "import numpy as np\n",
    "import pandas as pd\n",
    "import matplotlib.pyplot as plt\n",
    "import seaborn as sns\n",
    "\n",
    "from sklearn.decomposition import PCA, NMF\n",
    "from sklearn.metrics import accuracy_score, confusion_matrix, classification_report\n",
    "from sklearn.preprocessing import StandardScaler, LabelEncoder\n",
    "from sklearn.preprocessing import minmax_scale\n",
    "\n",
    "from sklearn.impute import KNNImputer\n",
    "from sklearn.linear_model import LogisticRegression\n",
    "from sklearn.model_selection import train_test_split\n",
    "from sklearn.metrics import roc_curve,auc\n",
    "\n",
    "from imblearn.over_sampling import SMOTE\n",
    "from lightgbm import LGBMClassifier\n",
    "from xgboost import XGBClassifier"
   ]
  },
  {
   "cell_type": "code",
   "execution_count": 2,
   "metadata": {},
   "outputs": [],
   "source": [
    "X_train_transaction = pd.read_csv('train_transaction.csv', index_col='TransactionID')\n",
    "X_train_identity = pd.read_csv('train_identity.csv', index_col='TransactionID')"
   ]
  },
  {
   "cell_type": "markdown",
   "metadata": {},
   "source": [
    "# Principal Component Analysis (PCA)"
   ]
  },
  {
   "cell_type": "code",
   "execution_count": 3,
   "metadata": {},
   "outputs": [],
   "source": [
    "def pca(X_transaction, X_identity):\n",
    "    X_transaction_V = X_transaction.iloc[:, 54:]\n",
    "    X_transaction_minus_V = X_transaction.drop(columns=X_transaction_V.columns, inplace=False)\n",
    "    null_cols = []\n",
    "    for col in X_transaction_V.columns:\n",
    "        if (X_transaction_V[col].isnull().sum() / X_transaction_V.shape[0]) > 0.8:\n",
    "            null_cols.append(col)\n",
    "    X_transaction_nan_removed = X_transaction_V.drop(null_cols, axis=1)\n",
    "    X_nan_filled = X_transaction_nan_removed.fillna(-1)\n",
    "    scaler = StandardScaler()\n",
    "    scaler.fit(X_nan_filled)\n",
    "    X_transaction_V_scaled = scaler.transform(X_nan_filled)\n",
    "    pca = PCA(n_components=85)\n",
    "    X_pca = pca.fit_transform(X_transaction_V_scaled)\n",
    "    pca_columns = []\n",
    "    for i in range(X_pca.shape[1]):\n",
    "        pca_columns.append(\"V\" + str(i+1) + \"_new\")\n",
    "    X_pca_df = pd.DataFrame(X_pca, index=X_nan_filled.index, columns=pca_columns)\n",
    "    X_transaction_full = X_pca_df.merge(X_transaction_minus_V, how='left', left_index=True, right_index=True)\n",
    "    X = X_transaction_full.merge(X_identity, how='left', left_index=True, right_index=True)\n",
    "    return X"
   ]
  },
  {
   "cell_type": "markdown",
   "metadata": {},
   "source": [
    "# Preprocessing"
   ]
  },
  {
   "cell_type": "code",
   "execution_count": 4,
   "metadata": {},
   "outputs": [],
   "source": [
    "def data_preprocessing(X):\n",
    "    email_columns = ['P_emaildomain', 'R_emaildomain']\n",
    "    X[email_columns] = X[email_columns].fillna(value='EMPTY')\n",
    "    emails = {'gmail': 'google', 'att.net': 'att', 'twc.com': 'spectrum', 'scranton.edu': 'other', \n",
    "          'optonline.net': 'other', 'hotmail.co.uk': 'microsoft', 'comcast.net': 'other', 'yahoo.com.mx': 'yahoo', \n",
    "          'yahoo.fr': 'yahoo', 'yahoo.es': 'yahoo', 'charter.net': 'spectrum', 'live.com': 'microsoft', \n",
    "          'aim.com': 'aol', 'hotmail.de': 'microsoft', 'centurylink.net': 'centurylink', 'gmail.com': 'google', \n",
    "          'me.com': 'apple', 'earthlink.net': 'other', 'gmx.de': 'other', 'web.de': 'other', 'cfl.rr.com': 'other', \n",
    "          'hotmail.com': 'microsoft', 'protonmail.com': 'other', 'hotmail.fr': 'microsoft', 'windstream.net': 'other',\n",
    "          'outlook.es': 'microsoft', 'yahoo.co.jp': 'yahoo', 'yahoo.de': 'yahoo', 'servicios-ta.com': 'other', \n",
    "          'netzero.net': 'other', 'suddenlink.net': 'other', 'roadrunner.com': 'other', 'sc.rr.com': 'other', \n",
    "          'live.fr': 'microsoft', 'verizon.net': 'yahoo', 'msn.com': 'microsoft', 'q.com': 'centurylink', \n",
    "          'prodigy.net.mx': 'att', 'frontier.com': 'yahoo', 'anonymous.com': 'other', 'rocketmail.com': 'yahoo', \n",
    "          'sbcglobal.net': 'att', 'frontiernet.net': 'yahoo', 'ymail.com': 'yahoo', 'outlook.com': 'microsoft', \n",
    "          'mail.com': 'other', 'bellsouth.net': 'other', 'embarqmail.com': 'centurylink', 'cableone.net': 'other', \n",
    "          'hotmail.es': 'microsoft', 'mac.com': 'apple', 'yahoo.co.uk': 'yahoo', 'netzero.com': 'other', \n",
    "          'yahoo.com': 'yahoo', 'live.com.mx': 'microsoft', 'ptd.net': 'other', 'cox.net': 'other', 'aol.com': 'aol', \n",
    "          'juno.com': 'other', 'icloud.com': 'apple'}\n",
    "    us_emails = ['gmail', 'net', 'edu']\n",
    "    \n",
    "    # Reference: https://www.kaggle.com/tolgahancepel/lightgbm-single-model-and-feature-engineering\n",
    "    for c in email_columns:\n",
    "        X[c + '_bin'] = X[c].map(emails)\n",
    "        X[c + '_suffix'] = X[c].map(lambda x: str(x).split('.')[-1])\n",
    "        X[c + '_suffix'] = X[c + '_suffix'].map(lambda x: x if str(x) not in us_emails else 'us')\n",
    "    \n",
    "    id_n_d_columns = ['id_01', 'id_02', 'id_03', 'id_04', 'id_05', 'id_06', 'id_09', 'id_10', 'id_11', 'D1', 'D3', 'D5', \n",
    "               'D6', 'D8', 'D9', 'D10', 'D11', 'D13', 'D14', 'D4', 'D15']\n",
    "    for col in id_n_d_columns:\n",
    "        X[col] = (minmax_scale(X[col], feature_range=(0, 1)))\n",
    "        X[col] = X[col].fillna(-1)\n",
    "    \n",
    "    for i in X.columns:\n",
    "        if X[i].dtype == 'object': \n",
    "            label = LabelEncoder()\n",
    "            label.fit(list(X[i].values))\n",
    "            X[i] = label.transform(list(X[i].values))\n",
    "    \n",
    "    categorical_data = X.select_dtypes(include=['object'])\n",
    "    categorical_data_nan_filled = categorical_data.fillna('EMPTY')\n",
    "    numerical_data = X._get_numeric_data()\n",
    "    numerical_data_nan_filled = numerical_data.fillna(-1)\n",
    "    X = pd.concat([numerical_data_nan_filled, categorical_data_nan_filled], axis=1) \n",
    "    return X"
   ]
  },
  {
   "cell_type": "code",
   "execution_count": 5,
   "metadata": {},
   "outputs": [],
   "source": [
    "X_train_pca = pca(X_train_transaction, X_train_identity)\n",
    "y_train = X_train_pca['isFraud']\n",
    "X_train_pca.drop(columns=['isFraud'], inplace=True)"
   ]
  },
  {
   "cell_type": "code",
   "execution_count": 6,
   "metadata": {},
   "outputs": [],
   "source": [
    "X_train = data_preprocessing(X_train_pca)"
   ]
  },
  {
   "cell_type": "code",
   "execution_count": 7,
   "metadata": {},
   "outputs": [
    {
     "data": {
      "text/html": [
       "<div>\n",
       "<style scoped>\n",
       "    .dataframe tbody tr th:only-of-type {\n",
       "        vertical-align: middle;\n",
       "    }\n",
       "\n",
       "    .dataframe tbody tr th {\n",
       "        vertical-align: top;\n",
       "    }\n",
       "\n",
       "    .dataframe thead th {\n",
       "        text-align: right;\n",
       "    }\n",
       "</style>\n",
       "<table border=\"1\" class=\"dataframe\">\n",
       "  <thead>\n",
       "    <tr style=\"text-align: right;\">\n",
       "      <th></th>\n",
       "      <th>id_01</th>\n",
       "      <th>id_02</th>\n",
       "      <th>id_03</th>\n",
       "      <th>id_04</th>\n",
       "      <th>id_05</th>\n",
       "      <th>id_06</th>\n",
       "      <th>id_07</th>\n",
       "      <th>id_08</th>\n",
       "      <th>id_09</th>\n",
       "      <th>id_10</th>\n",
       "      <th>...</th>\n",
       "      <th>id_31</th>\n",
       "      <th>id_32</th>\n",
       "      <th>id_33</th>\n",
       "      <th>id_34</th>\n",
       "      <th>id_35</th>\n",
       "      <th>id_36</th>\n",
       "      <th>id_37</th>\n",
       "      <th>id_38</th>\n",
       "      <th>DeviceType</th>\n",
       "      <th>DeviceInfo</th>\n",
       "    </tr>\n",
       "    <tr>\n",
       "      <th>TransactionID</th>\n",
       "      <th></th>\n",
       "      <th></th>\n",
       "      <th></th>\n",
       "      <th></th>\n",
       "      <th></th>\n",
       "      <th></th>\n",
       "      <th></th>\n",
       "      <th></th>\n",
       "      <th></th>\n",
       "      <th></th>\n",
       "      <th></th>\n",
       "      <th></th>\n",
       "      <th></th>\n",
       "      <th></th>\n",
       "      <th></th>\n",
       "      <th></th>\n",
       "      <th></th>\n",
       "      <th></th>\n",
       "      <th></th>\n",
       "      <th></th>\n",
       "      <th></th>\n",
       "    </tr>\n",
       "  </thead>\n",
       "  <tbody>\n",
       "    <tr>\n",
       "      <th>2987004</th>\n",
       "      <td>0.0</td>\n",
       "      <td>70787.0</td>\n",
       "      <td>NaN</td>\n",
       "      <td>NaN</td>\n",
       "      <td>NaN</td>\n",
       "      <td>NaN</td>\n",
       "      <td>NaN</td>\n",
       "      <td>NaN</td>\n",
       "      <td>NaN</td>\n",
       "      <td>NaN</td>\n",
       "      <td>...</td>\n",
       "      <td>samsung browser 6.2</td>\n",
       "      <td>32.0</td>\n",
       "      <td>2220x1080</td>\n",
       "      <td>match_status:2</td>\n",
       "      <td>T</td>\n",
       "      <td>F</td>\n",
       "      <td>T</td>\n",
       "      <td>T</td>\n",
       "      <td>mobile</td>\n",
       "      <td>SAMSUNG SM-G892A Build/NRD90M</td>\n",
       "    </tr>\n",
       "    <tr>\n",
       "      <th>2987008</th>\n",
       "      <td>-5.0</td>\n",
       "      <td>98945.0</td>\n",
       "      <td>NaN</td>\n",
       "      <td>NaN</td>\n",
       "      <td>0.0</td>\n",
       "      <td>-5.0</td>\n",
       "      <td>NaN</td>\n",
       "      <td>NaN</td>\n",
       "      <td>NaN</td>\n",
       "      <td>NaN</td>\n",
       "      <td>...</td>\n",
       "      <td>mobile safari 11.0</td>\n",
       "      <td>32.0</td>\n",
       "      <td>1334x750</td>\n",
       "      <td>match_status:1</td>\n",
       "      <td>T</td>\n",
       "      <td>F</td>\n",
       "      <td>F</td>\n",
       "      <td>T</td>\n",
       "      <td>mobile</td>\n",
       "      <td>iOS Device</td>\n",
       "    </tr>\n",
       "    <tr>\n",
       "      <th>2987010</th>\n",
       "      <td>-5.0</td>\n",
       "      <td>191631.0</td>\n",
       "      <td>0.0</td>\n",
       "      <td>0.0</td>\n",
       "      <td>0.0</td>\n",
       "      <td>0.0</td>\n",
       "      <td>NaN</td>\n",
       "      <td>NaN</td>\n",
       "      <td>0.0</td>\n",
       "      <td>0.0</td>\n",
       "      <td>...</td>\n",
       "      <td>chrome 62.0</td>\n",
       "      <td>NaN</td>\n",
       "      <td>NaN</td>\n",
       "      <td>NaN</td>\n",
       "      <td>F</td>\n",
       "      <td>F</td>\n",
       "      <td>T</td>\n",
       "      <td>T</td>\n",
       "      <td>desktop</td>\n",
       "      <td>Windows</td>\n",
       "    </tr>\n",
       "    <tr>\n",
       "      <th>2987011</th>\n",
       "      <td>-5.0</td>\n",
       "      <td>221832.0</td>\n",
       "      <td>NaN</td>\n",
       "      <td>NaN</td>\n",
       "      <td>0.0</td>\n",
       "      <td>-6.0</td>\n",
       "      <td>NaN</td>\n",
       "      <td>NaN</td>\n",
       "      <td>NaN</td>\n",
       "      <td>NaN</td>\n",
       "      <td>...</td>\n",
       "      <td>chrome 62.0</td>\n",
       "      <td>NaN</td>\n",
       "      <td>NaN</td>\n",
       "      <td>NaN</td>\n",
       "      <td>F</td>\n",
       "      <td>F</td>\n",
       "      <td>T</td>\n",
       "      <td>T</td>\n",
       "      <td>desktop</td>\n",
       "      <td>NaN</td>\n",
       "    </tr>\n",
       "    <tr>\n",
       "      <th>2987016</th>\n",
       "      <td>0.0</td>\n",
       "      <td>7460.0</td>\n",
       "      <td>0.0</td>\n",
       "      <td>0.0</td>\n",
       "      <td>1.0</td>\n",
       "      <td>0.0</td>\n",
       "      <td>NaN</td>\n",
       "      <td>NaN</td>\n",
       "      <td>0.0</td>\n",
       "      <td>0.0</td>\n",
       "      <td>...</td>\n",
       "      <td>chrome 62.0</td>\n",
       "      <td>24.0</td>\n",
       "      <td>1280x800</td>\n",
       "      <td>match_status:2</td>\n",
       "      <td>T</td>\n",
       "      <td>F</td>\n",
       "      <td>T</td>\n",
       "      <td>T</td>\n",
       "      <td>desktop</td>\n",
       "      <td>MacOS</td>\n",
       "    </tr>\n",
       "  </tbody>\n",
       "</table>\n",
       "<p>5 rows × 40 columns</p>\n",
       "</div>"
      ],
      "text/plain": [
       "               id_01     id_02  id_03  id_04  id_05  id_06  id_07  id_08  \\\n",
       "TransactionID                                                              \n",
       "2987004          0.0   70787.0    NaN    NaN    NaN    NaN    NaN    NaN   \n",
       "2987008         -5.0   98945.0    NaN    NaN    0.0   -5.0    NaN    NaN   \n",
       "2987010         -5.0  191631.0    0.0    0.0    0.0    0.0    NaN    NaN   \n",
       "2987011         -5.0  221832.0    NaN    NaN    0.0   -6.0    NaN    NaN   \n",
       "2987016          0.0    7460.0    0.0    0.0    1.0    0.0    NaN    NaN   \n",
       "\n",
       "               id_09  id_10  ...                id_31 id_32      id_33  \\\n",
       "TransactionID                ...                                         \n",
       "2987004          NaN    NaN  ...  samsung browser 6.2  32.0  2220x1080   \n",
       "2987008          NaN    NaN  ...   mobile safari 11.0  32.0   1334x750   \n",
       "2987010          0.0    0.0  ...          chrome 62.0   NaN        NaN   \n",
       "2987011          NaN    NaN  ...          chrome 62.0   NaN        NaN   \n",
       "2987016          0.0    0.0  ...          chrome 62.0  24.0   1280x800   \n",
       "\n",
       "                        id_34 id_35 id_36  id_37  id_38  DeviceType  \\\n",
       "TransactionID                                                         \n",
       "2987004        match_status:2     T     F      T      T      mobile   \n",
       "2987008        match_status:1     T     F      F      T      mobile   \n",
       "2987010                   NaN     F     F      T      T     desktop   \n",
       "2987011                   NaN     F     F      T      T     desktop   \n",
       "2987016        match_status:2     T     F      T      T     desktop   \n",
       "\n",
       "                                  DeviceInfo  \n",
       "TransactionID                                 \n",
       "2987004        SAMSUNG SM-G892A Build/NRD90M  \n",
       "2987008                           iOS Device  \n",
       "2987010                              Windows  \n",
       "2987011                                  NaN  \n",
       "2987016                                MacOS  \n",
       "\n",
       "[5 rows x 40 columns]"
      ]
     },
     "execution_count": 7,
     "metadata": {},
     "output_type": "execute_result"
    }
   ],
   "source": [
    "X_train_identity.head()"
   ]
  },
  {
   "cell_type": "markdown",
   "metadata": {},
   "source": [
    "# Checking Imbalance"
   ]
  },
  {
   "cell_type": "code",
   "execution_count": 8,
   "metadata": {},
   "outputs": [
    {
     "data": {
      "image/png": "[encoded data removed]",
      "text/plain": [
       "<Figure size 432x288 with 1 Axes>"
      ]
     },
     "metadata": {
      "needs_background": "light"
     },
     "output_type": "display_data"
    }
   ],
   "source": [
    "plt.figure(1)\n",
    "sns.countplot(x='isFraud', data=X_train_transaction)\n",
    "plt.xlabel('isFraud')\n",
    "plt.ylabel('Count')\n",
    "plt.title('Countplot - isFraud')\n",
    "plt.show()"
   ]
  },
  {
   "cell_type": "markdown",
   "metadata": {},
   "source": [
    "# Using SMOTE Technique for Balancing"
   ]
  },
  {
   "cell_type": "code",
   "execution_count": 9,
   "metadata": {},
   "outputs": [],
   "source": [
    "smote = SMOTE(random_state=42)\n",
    "X_balanced, y_balanced = smote.fit_resample(X_train, y_train)"
   ]
  },
  {
   "cell_type": "code",
   "execution_count": 10,
   "metadata": {},
   "outputs": [],
   "source": [
    "X_train_balanced, X_test_balanced, y_train_balanced, y_test_balanced = train_test_split(X_balanced, y_balanced, test_size=0.3, random_state=42)\n",
    "X_train_imbalanced, X_test_imbalanced, y_train_imbalanced, y_test_imbalanced = train_test_split(X_train, y_train, test_size=0.3, random_state=42)"
   ]
  },
  {
   "cell_type": "markdown",
   "metadata": {},
   "source": [
    "# Logistic Regression Without Balancing"
   ]
  },
  {
   "cell_type": "code",
   "execution_count": 11,
   "metadata": {
    "scrolled": true
   },
   "outputs": [],
   "source": [
    "log_clf_imbalanced = LogisticRegression().fit(X_train_imbalanced, y_train_imbalanced)"
   ]
  },
  {
   "cell_type": "code",
   "execution_count": 12,
   "metadata": {},
   "outputs": [],
   "source": [
    "y_predicted_imbalanced = log_clf_imbalanced.predict(X_test_imbalanced)"
   ]
  },
  {
   "cell_type": "code",
   "execution_count": 13,
   "metadata": {},
   "outputs": [
    {
     "name": "stdout",
     "output_type": "stream",
     "text": [
      "Accuracy Score of Logistic Regression on Testing Data (Imbalanced) 0.9642079001140199\n"
     ]
    }
   ],
   "source": [
    "accuracy_log_imbalanced = accuracy_score(y_test_imbalanced, y_predicted_imbalanced)\n",
    "print(\"Accuracy Score of Logistic Regression on Testing Data (Imbalanced)\", accuracy_log_imbalanced)"
   ]
  },
  {
   "cell_type": "code",
   "execution_count": 14,
   "metadata": {},
   "outputs": [],
   "source": [
    "y_predicted_imbalanced_train = log_clf_imbalanced.predict(X_train_imbalanced)"
   ]
  },
  {
   "cell_type": "code",
   "execution_count": 15,
   "metadata": {},
   "outputs": [
    {
     "name": "stdout",
     "output_type": "stream",
     "text": [
      "Accuracy Score of Logistic Regression on Training Data (Imbalanced) 0.965353744030887\n"
     ]
    }
   ],
   "source": [
    "accuracy_log_imbalanced_train = accuracy_score(y_train_imbalanced, y_predicted_imbalanced_train)\n",
    "print(\"Accuracy Score of Logistic Regression on Training Data (Imbalanced)\", accuracy_log_imbalanced_train)"
   ]
  },
  {
   "cell_type": "code",
   "execution_count": 16,
   "metadata": {},
   "outputs": [
    {
     "name": "stdout",
     "output_type": "stream",
     "text": [
      "Classification Report of Logistic Regression on Testing Data (Imbalanced)\n",
      "              precision    recall  f1-score   support\n",
      "\n",
      "           0       0.96      1.00      0.98    170821\n",
      "           1       0.00      0.00      0.00      6341\n",
      "\n",
      "    accuracy                           0.96    177162\n",
      "   macro avg       0.48      0.50      0.49    177162\n",
      "weighted avg       0.93      0.96      0.95    177162\n",
      "\n"
     ]
    },
    {
     "name": "stderr",
     "output_type": "stream",
     "text": [
      "/opt/anaconda3/lib/python3.8/site-packages/sklearn/metrics/_classification.py:1471: UndefinedMetricWarning: Precision and F-score are ill-defined and being set to 0.0 in labels with no predicted samples. Use `zero_division` parameter to control this behavior.\n",
      "  _warn_prf(average, modifier, msg_start, len(result))\n",
      "/opt/anaconda3/lib/python3.8/site-packages/sklearn/metrics/_classification.py:1471: UndefinedMetricWarning: Precision and F-score are ill-defined and being set to 0.0 in labels with no predicted samples. Use `zero_division` parameter to control this behavior.\n",
      "  _warn_prf(average, modifier, msg_start, len(result))\n",
      "/opt/anaconda3/lib/python3.8/site-packages/sklearn/metrics/_classification.py:1471: UndefinedMetricWarning: Precision and F-score are ill-defined and being set to 0.0 in labels with no predicted samples. Use `zero_division` parameter to control this behavior.\n",
      "  _warn_prf(average, modifier, msg_start, len(result))\n"
     ]
    }
   ],
   "source": [
    "print(\"Classification Report of Logistic Regression on Testing Data (Imbalanced)\")\n",
    "print(classification_report(y_test_imbalanced, y_predicted_imbalanced))"
   ]
  },
  {
   "cell_type": "code",
   "execution_count": 17,
   "metadata": {
    "scrolled": true
   },
   "outputs": [
    {
     "data": {
      "image/png": "[encoded data removed]",
      "text/plain": [
       "<Figure size 432x288 with 2 Axes>"
      ]
     },
     "metadata": {
      "needs_background": "light"
     },
     "output_type": "display_data"
    }
   ],
   "source": [
    "plt.figure(2)\n",
    "plt.title('Confusion Matrix on Testing Data of Logistic Rogression (Imbalanced)')\n",
    "sns.heatmap(confusion_matrix(y_test_imbalanced, y_predicted_imbalanced), fmt='d', cmap='YlGnBu', annot=True)\n",
    "plt.show()"
   ]
  },
  {
   "cell_type": "markdown",
   "metadata": {},
   "source": [
    "# Logistic Regression With Balancing"
   ]
  },
  {
   "cell_type": "code",
   "execution_count": 18,
   "metadata": {
    "scrolled": true
   },
   "outputs": [],
   "source": [
    "log_clf_balanced = LogisticRegression().fit(X_train_balanced, y_train_balanced)"
   ]
  },
  {
   "cell_type": "code",
   "execution_count": 19,
   "metadata": {},
   "outputs": [],
   "source": [
    "y_predicted_balanced = log_clf_balanced.predict(X_test_balanced)"
   ]
  },
  {
   "cell_type": "code",
   "execution_count": 20,
   "metadata": {},
   "outputs": [
    {
     "name": "stdout",
     "output_type": "stream",
     "text": [
      "Accuracy Score of Logistic Regression on Testing Data (Balanced) 0.6529961073562486\n"
     ]
    }
   ],
   "source": [
    "accuracy_log_balanced = accuracy_score(y_test_balanced, y_predicted_balanced)\n",
    "print(\"Accuracy Score of Logistic Regression on Testing Data (Balanced)\" , accuracy_log_balanced)"
   ]
  },
  {
   "cell_type": "code",
   "execution_count": 21,
   "metadata": {},
   "outputs": [],
   "source": [
    "y_predicted_balanced_train = log_clf_balanced.predict(X_train_balanced)"
   ]
  },
  {
   "cell_type": "code",
   "execution_count": 22,
   "metadata": {},
   "outputs": [
    {
     "name": "stdout",
     "output_type": "stream",
     "text": [
      "Accuracy Score of Logistic Regression on Training Data (Balanced) 0.6534825219001111\n"
     ]
    }
   ],
   "source": [
    "accuracy_log_balanced_train = accuracy_score(y_train_balanced, y_predicted_balanced_train)\n",
    "print(\"Accuracy Score of Logistic Regression on Training Data (Balanced)\", accuracy_log_balanced_train)"
   ]
  },
  {
   "cell_type": "code",
   "execution_count": 23,
   "metadata": {},
   "outputs": [
    {
     "name": "stdout",
     "output_type": "stream",
     "text": [
      "Classification Report of Logistic Regression on Testing Data (Balanced)\n",
      "              precision    recall  f1-score   support\n",
      "\n",
      "           0       0.62      0.78      0.69    170944\n",
      "           1       0.70      0.53      0.60    170983\n",
      "\n",
      "    accuracy                           0.65    341927\n",
      "   macro avg       0.66      0.65      0.65    341927\n",
      "weighted avg       0.66      0.65      0.65    341927\n",
      "\n"
     ]
    }
   ],
   "source": [
    "print(\"Classification Report of Logistic Regression on Testing Data (Balanced)\")\n",
    "print(classification_report(y_test_balanced, y_predicted_balanced))"
   ]
  },
  {
   "cell_type": "code",
   "execution_count": 24,
   "metadata": {
    "scrolled": true
   },
   "outputs": [
    {
     "data": {
      "image/png": "[encoded data removed]",
      "text/plain": [
       "<Figure size 432x288 with 2 Axes>"
      ]
     },
     "metadata": {
      "needs_background": "light"
     },
     "output_type": "display_data"
    }
   ],
   "source": [
    "plt.figure(3)\n",
    "plt.title('Confusion Matrix on Testing Data of Logistic Rogression (Balanced)')\n",
    "sns.heatmap(confusion_matrix(y_test_balanced, y_predicted_balanced), fmt='d', cmap='YlGnBu', annot=True)\n",
    "plt.show()"
   ]
  },
  {
   "cell_type": "markdown",
   "metadata": {},
   "source": [
    "# XGBoost without Balancing"
   ]
  },
  {
   "cell_type": "code",
   "execution_count": 27,
   "metadata": {},
   "outputs": [],
   "source": [
    "xgb_model_imbalanced = XGBClassifier()\n",
    "xgb_model_imbalanced.fit(X_train_imbalanced, y_train_imbalanced)\n",
    "y_predicted_imbalanced = xgb_model_imbalanced.predict(X_test_imbalanced)"
   ]
  },
  {
   "cell_type": "code",
   "execution_count": 28,
   "metadata": {},
   "outputs": [
    {
     "name": "stdout",
     "output_type": "stream",
     "text": [
      "Accuracy Score of XGBoost on Testing Data (Imbalanced) 0.9800013546923155\n"
     ]
    }
   ],
   "source": [
    "accuracy_xgb_imbalanced = accuracy_score(y_test_imbalanced, y_predicted_imbalanced)\n",
    "print('Accuracy Score of XGBoost on Testing Data (Imbalanced)', accuracy_xgb_imbalanced)"
   ]
  },
  {
   "cell_type": "code",
   "execution_count": 29,
   "metadata": {},
   "outputs": [],
   "source": [
    "y_predicted_imbalanced_train = xgb_model_imbalanced.predict(X_train_imbalanced)"
   ]
  },
  {
   "cell_type": "code",
   "execution_count": 30,
   "metadata": {},
   "outputs": [
    {
     "name": "stdout",
     "output_type": "stream",
     "text": [
      "Accuracy Score of XGBoost on Training Data (Imbalanced) 0.9849653343912835\n"
     ]
    }
   ],
   "source": [
    "accuracy_xgb_imbalanced_train = accuracy_score(y_train_imbalanced, y_predicted_imbalanced_train)\n",
    "print('Accuracy Score of XGBoost on Training Data (Imbalanced)', accuracy_xgb_imbalanced_train)"
   ]
  },
  {
   "cell_type": "code",
   "execution_count": 31,
   "metadata": {},
   "outputs": [
    {
     "name": "stdout",
     "output_type": "stream",
     "text": [
      "Classification Report of XGBoost on Testing Data (Imbalanced)\n",
      "              precision    recall  f1-score   support\n",
      "\n",
      "           0       0.98      1.00      0.99    170821\n",
      "           1       0.91      0.49      0.64      6341\n",
      "\n",
      "    accuracy                           0.98    177162\n",
      "   macro avg       0.94      0.74      0.81    177162\n",
      "weighted avg       0.98      0.98      0.98    177162\n",
      "\n"
     ]
    }
   ],
   "source": [
    "print(\"Classification Report of XGBoost on Testing Data (Imbalanced)\")\n",
    "print(classification_report(y_test_imbalanced, y_predicted_imbalanced))"
   ]
  },
  {
   "cell_type": "code",
   "execution_count": 32,
   "metadata": {},
   "outputs": [
    {
     "data": {
      "image/png": "[encoded data removed]",
      "text/plain": [
       "<Figure size 432x288 with 2 Axes>"
      ]
     },
     "metadata": {
      "needs_background": "light"
     },
     "output_type": "display_data"
    }
   ],
   "source": [
    "plt.figure(4)\n",
    "plt.title('Confusion Matrix on Testing Data of XGBoost (Imbalanced)')\n",
    "sns.heatmap(confusion_matrix(y_test_imbalanced, y_predicted_imbalanced), fmt='d', cmap='YlGnBu', annot=True)\n",
    "plt.show()"
   ]
  },
  {
   "cell_type": "markdown",
   "metadata": {},
   "source": [
    "# XGBoost with Weight Balancing"
   ]
  },
  {
   "cell_type": "code",
   "execution_count": 33,
   "metadata": {},
   "outputs": [],
   "source": [
    "xgb_model_weight_balanced = XGBClassifier(scale_pos_weight=y_train_imbalanced.value_counts()[0]/y_train_imbalanced.value_counts()[1])\n",
    "xgb_model_weight_balanced.fit(X_train_imbalanced, y_train_imbalanced)\n",
    "y_predicted_weight_balanced = xgb_model_weight_balanced.predict(X_test_imbalanced)"
   ]
  },
  {
   "cell_type": "code",
   "execution_count": 34,
   "metadata": {},
   "outputs": [
    {
     "name": "stdout",
     "output_type": "stream",
     "text": [
      "Accuracy Score of XGBoost on Testing Data (Weight Balanced) 0.9277553877242298\n"
     ]
    }
   ],
   "source": [
    "accuracy_xgb_weight_balanced = accuracy_score(y_test_imbalanced, y_predicted_weight_balanced)\n",
    "print('Accuracy Score of XGBoost on Testing Data (Weight Balanced)', accuracy_xgb_weight_balanced)"
   ]
  },
  {
   "cell_type": "code",
   "execution_count": 35,
   "metadata": {},
   "outputs": [],
   "source": [
    "y_predicted_weight_balanced_train = xgb_model_weight_balanced.predict(X_train_imbalanced)"
   ]
  },
  {
   "cell_type": "code",
   "execution_count": 36,
   "metadata": {},
   "outputs": [
    {
     "name": "stdout",
     "output_type": "stream",
     "text": [
      "Accuracy Score of XGBoost on Training Data (Weight Balanced) 0.9358359661133394\n"
     ]
    }
   ],
   "source": [
    "accuracy_xgb_weight_balanced_train = accuracy_score(y_train_imbalanced, y_predicted_weight_balanced_train)\n",
    "print('Accuracy Score of XGBoost on Training Data (Weight Balanced)', accuracy_xgb_weight_balanced_train)"
   ]
  },
  {
   "cell_type": "code",
   "execution_count": 37,
   "metadata": {},
   "outputs": [
    {
     "name": "stdout",
     "output_type": "stream",
     "text": [
      "Classification Report of XGBoost on Testing Data (Weight Balanced)\n",
      "              precision    recall  f1-score   support\n",
      "\n",
      "           0       0.99      0.93      0.96    170821\n",
      "           1       0.31      0.80      0.44      6341\n",
      "\n",
      "    accuracy                           0.93    177162\n",
      "   macro avg       0.65      0.87      0.70    177162\n",
      "weighted avg       0.97      0.93      0.94    177162\n",
      "\n"
     ]
    }
   ],
   "source": [
    "print(\"Classification Report of XGBoost on Testing Data (Weight Balanced)\")\n",
    "print(classification_report(y_test_imbalanced, y_predicted_weight_balanced))"
   ]
  },
  {
   "cell_type": "code",
   "execution_count": 38,
   "metadata": {},
   "outputs": [
    {
     "data": {
      "image/png": "[encoded data removed]",
      "text/plain": [
       "<Figure size 432x288 with 2 Axes>"
      ]
     },
     "metadata": {
      "needs_background": "light"
     },
     "output_type": "display_data"
    }
   ],
   "source": [
    "plt.figure(5)\n",
    "plt.title('Confusion Matrix on Testing Data of XGBoost (Weight Balanced)')\n",
    "sns.heatmap(confusion_matrix(y_test_imbalanced, y_predicted_weight_balanced), fmt='d', cmap='YlGnBu', annot=True)\n",
    "plt.show()"
   ]
  },
  {
   "cell_type": "markdown",
   "metadata": {},
   "source": [
    "# XGBoost with SMOTE Balancing"
   ]
  },
  {
   "cell_type": "code",
   "execution_count": 39,
   "metadata": {},
   "outputs": [],
   "source": [
    "xgb_model_balanced = XGBClassifier()\n",
    "xgb_model_balanced.fit(X_train_balanced, y_train_balanced)\n",
    "y_predicted_balanced = xgb_model_balanced.predict(X_test_balanced)"
   ]
  },
  {
   "cell_type": "code",
   "execution_count": 40,
   "metadata": {},
   "outputs": [
    {
     "name": "stdout",
     "output_type": "stream",
     "text": [
      "Accuracy Score of XGBoost on Testing Data (Balanced) 0.9864123043807597\n"
     ]
    }
   ],
   "source": [
    "accuracy_xgb_balanced = accuracy_score(y_test_balanced, y_predicted_balanced)\n",
    "print('Accuracy Score of XGBoost on Testing Data (Balanced)', accuracy_xgb_balanced)"
   ]
  },
  {
   "cell_type": "code",
   "execution_count": 41,
   "metadata": {},
   "outputs": [],
   "source": [
    "y_predicted_balanced_train = xgb_model_balanced.predict(X_train_balanced)"
   ]
  },
  {
   "cell_type": "code",
   "execution_count": 42,
   "metadata": {},
   "outputs": [
    {
     "name": "stdout",
     "output_type": "stream",
     "text": [
      "Accuracy Score of XGBoost on Training Data (Balanced) 0.9880901498695832\n"
     ]
    }
   ],
   "source": [
    "accuracy_xgb_balanced_train = accuracy_score(y_train_balanced, y_predicted_balanced_train)\n",
    "print('Accuracy Score of XGBoost on Training Data (Balanced)', accuracy_xgb_balanced_train)"
   ]
  },
  {
   "cell_type": "code",
   "execution_count": 43,
   "metadata": {},
   "outputs": [
    {
     "name": "stdout",
     "output_type": "stream",
     "text": [
      "Classification Report of XGBoost on Testing Data (Balanced)\n",
      "              precision    recall  f1-score   support\n",
      "\n",
      "           0       0.98      0.99      0.99    170944\n",
      "           1       0.99      0.98      0.99    170983\n",
      "\n",
      "    accuracy                           0.99    341927\n",
      "   macro avg       0.99      0.99      0.99    341927\n",
      "weighted avg       0.99      0.99      0.99    341927\n",
      "\n"
     ]
    }
   ],
   "source": [
    "print(\"Classification Report of XGBoost on Testing Data (Balanced)\")\n",
    "print(classification_report(y_test_balanced, y_predicted_balanced))"
   ]
  },
  {
   "cell_type": "code",
   "execution_count": 44,
   "metadata": {},
   "outputs": [
    {
     "data": {
      "image/png": "[encoded data removed]",
      "text/plain": [
       "<Figure size 432x288 with 2 Axes>"
      ]
     },
     "metadata": {
      "needs_background": "light"
     },
     "output_type": "display_data"
    }
   ],
   "source": [
    "plt.figure(5)\n",
    "plt.title('Confusion Matrix on Testing Data of XGBoost (Balanced)')\n",
    "sns.heatmap(confusion_matrix(y_test_balanced, y_predicted_balanced), fmt='d', cmap='YlGnBu', annot=True)\n",
    "plt.show()"
   ]
  },
  {
   "cell_type": "markdown",
   "metadata": {},
   "source": [
    "# LightGBM without Balancing"
   ]
  },
  {
   "cell_type": "code",
   "execution_count": 47,
   "metadata": {},
   "outputs": [
    {
     "ename": "NameError",
     "evalue": "name 'lgbm' is not defined",
     "output_type": "error",
     "traceback": [
      "\u001b[0;31m---------------------------------------------------------------------------\u001b[0m",
      "\u001b[0;31mNameError\u001b[0m                                 Traceback (most recent call last)",
      "\u001b[0;32m<ipython-input-47-81584ec2e097>\u001b[0m in \u001b[0;36m<module>\u001b[0;34m\u001b[0m\n\u001b[0;32m----> 1\u001b[0;31m \u001b[0mlgbm_model_imbalanced\u001b[0m \u001b[0;34m=\u001b[0m \u001b[0mlgbm\u001b[0m\u001b[0;34m.\u001b[0m\u001b[0mLGBMClassifier\u001b[0m\u001b[0;34m(\u001b[0m\u001b[0;34m)\u001b[0m\u001b[0;34m.\u001b[0m\u001b[0mfit\u001b[0m\u001b[0;34m(\u001b[0m\u001b[0mX_train_imbalanced\u001b[0m\u001b[0;34m,\u001b[0m \u001b[0my_train_imbalanced\u001b[0m\u001b[0;34m)\u001b[0m\u001b[0;34m\u001b[0m\u001b[0;34m\u001b[0m\u001b[0m\n\u001b[0m\u001b[1;32m      2\u001b[0m \u001b[0my_predicted_imbalanced\u001b[0m \u001b[0;34m=\u001b[0m \u001b[0mlgbm_model_imbalanced\u001b[0m\u001b[0;34m.\u001b[0m\u001b[0mpredict\u001b[0m\u001b[0;34m(\u001b[0m\u001b[0mX_test_imbalanced\u001b[0m\u001b[0;34m)\u001b[0m\u001b[0;34m\u001b[0m\u001b[0;34m\u001b[0m\u001b[0m\n",
      "\u001b[0;31mNameError\u001b[0m: name 'lgbm' is not defined"
     ]
    }
   ],
   "source": [
    "lgbm_model_imbalanced = lgbm.LGBMClassifier().fit(X_train_imbalanced, y_train_imbalanced)\n",
    "y_predicted_imbalanced = lgbm_model_imbalanced.predict(X_test_imbalanced)"
   ]
  },
  {
   "cell_type": "code",
   "execution_count": null,
   "metadata": {},
   "outputs": [],
   "source": [
    "accuracy_lgbm_imbalanced = accuracy_score(y_test_imbalanced, y_predicted_imbalanced)\n",
    "print('Accuracy Score of LightGBM on Testing Data (Imbalanced)', accuracy_lgbm_imbalanced)"
   ]
  },
  {
   "cell_type": "code",
   "execution_count": null,
   "metadata": {},
   "outputs": [],
   "source": [
    "y_predicted_imbalanced_train = lgbm_model_imbalanced.predict(X_train_imbalanced)"
   ]
  },
  {
   "cell_type": "code",
   "execution_count": null,
   "metadata": {},
   "outputs": [],
   "source": [
    "accuracy_lgbm_imbalanced_train = accuracy_score(y_train_imbalanced, y_predicted_imbalanced_train)\n",
    "print('Accuracy Score of LightGBM on Training Data (Imbalanced)', accuracy_lgbm_imbalanced_train)"
   ]
  },
  {
   "cell_type": "code",
   "execution_count": null,
   "metadata": {},
   "outputs": [],
   "source": [
    "print(\"Classification Report of LightGBM on Testing Data (Imbalanced)\")\n",
    "print(classification_report(y_test_imbalanced, y_predicted_imbalanced))"
   ]
  },
  {
   "cell_type": "code",
   "execution_count": null,
   "metadata": {},
   "outputs": [],
   "source": [
    "plt.figure(4)\n",
    "plt.title('Confusion Matrix on Testing Data of LightGBM (Imbalanced)')\n",
    "sns.heatmap(confusion_matrix(y_test_imbalanced, y_predicted_imbalanced), fmt='d', cmap='YlGnBu', annot=True)\n",
    "plt.show()"
   ]
  },
  {
   "cell_type": "markdown",
   "metadata": {},
   "source": [
    "# LightGBM with Weight Balancing"
   ]
  },
  {
   "cell_type": "code",
   "execution_count": null,
   "metadata": {},
   "outputs": [],
   "source": [
    "lgbm_model_weight_balanced = lgbm.LGBMClassifier(is_unbalance=True)\n",
    "lgbm_model_weight_balanced.fit(X_train_imbalanced, y_train_imbalanced)\n",
    "y_predicted_weight_balanced = lgbm_model_weight_balanced.predict(X_test_imbalanced)"
   ]
  },
  {
   "cell_type": "code",
   "execution_count": null,
   "metadata": {},
   "outputs": [],
   "source": [
    "accuracy_lgbm_weight_balanced = accuracy_score(y_test_imbalanced, y_predicted_weight_balanced)\n",
    "print('Accuracy Score of LightGBM on Testing Data (Weight Balanced)', accuracy_lgbm_weight_balanced)"
   ]
  },
  {
   "cell_type": "code",
   "execution_count": null,
   "metadata": {},
   "outputs": [],
   "source": [
    "y_predicted_weight_balanced_train = lgbm_model_weight_balanced.predict(X_train_imbalanced)"
   ]
  },
  {
   "cell_type": "code",
   "execution_count": null,
   "metadata": {},
   "outputs": [],
   "source": [
    "accuracy_lgbm_weight_balanced_train = accuracy_score(y_train_imbalanced, y_predicted_weight_balanced_train)\n",
    "print('Accuracy Score of LightGBM on Training Data (Weight Balanced)', accuracy_lgbm_weight_balanced_train)"
   ]
  },
  {
   "cell_type": "code",
   "execution_count": null,
   "metadata": {},
   "outputs": [],
   "source": [
    "print(\"Classification Report of LightGBM on Testing Data (Weight Balanced)\")\n",
    "print(classification_report(y_test_imbalanced, y_predicted_weight_balanced))"
   ]
  },
  {
   "cell_type": "code",
   "execution_count": null,
   "metadata": {},
   "outputs": [],
   "source": [
    "plt.figure(5)\n",
    "plt.title('Confusion Matrix on Testing Data of LightGBM (Weight Balanced)')\n",
    "sns.heatmap(confusion_matrix(y_test_imbalanced, y_predicted_weight_balanced), fmt='d', cmap='YlGnBu', annot=True)\n",
    "plt.show()"
   ]
  },
  {
   "cell_type": "markdown",
   "metadata": {},
   "source": [
    "# LightGBM with SMOTE Balancing"
   ]
  },
  {
   "cell_type": "code",
   "execution_count": null,
   "metadata": {},
   "outputs": [],
   "source": [
    "lgbm_model_balanced = lgbm.LGBMClassifier().fit(X_train_balanced, y_train_balanced)\n",
    "y_predicted_balanced = lgbm_model_balanced.predict(X_test_balanced)"
   ]
  },
  {
   "cell_type": "code",
   "execution_count": null,
   "metadata": {},
   "outputs": [],
   "source": [
    "accuracy_lgbm_balanced = accuracy_score(y_test_balanced, y_predicted_balanced)\n",
    "print('Accuracy Score of LightGBM on Testing Data (Balanced)', accuracy_lgbm_balanced)"
   ]
  },
  {
   "cell_type": "code",
   "execution_count": null,
   "metadata": {},
   "outputs": [],
   "source": [
    "y_predicted_balanced_train = lgbm_model_balanced.predict(X_train_balanced)"
   ]
  },
  {
   "cell_type": "code",
   "execution_count": null,
   "metadata": {},
   "outputs": [],
   "source": [
    "accuracy_lgbm_balanced_train = accuracy_score(y_train_balanced, y_predicted_balanced_train)\n",
    "print('Accuracy of LightGBM on Training Data (Balanced)', accuracy_lgbm_balanced_train)"
   ]
  },
  {
   "cell_type": "code",
   "execution_count": null,
   "metadata": {},
   "outputs": [],
   "source": [
    "print(\"Classification Report of LightGBM on Testing Data (Balanced)\")\n",
    "print(classification_report(y_test_imbalanced, y_predicted_balanced))"
   ]
  },
  {
   "cell_type": "code",
   "execution_count": null,
   "metadata": {},
   "outputs": [],
   "source": [
    "plt.figure(5)\n",
    "plt.title('Confusion Matrix on Testing Data of LightGBM (Balanced)')\n",
    "sns.heatmap(confusion_matrix(y_test_balanced, y_predicted_balanced), fmt='d', cmap='YlGnBu', annot=True)\n",
    "plt.show()"
   ]
  },
  {
   "cell_type": "code",
   "execution_count": null,
   "metadata": {},
   "outputs": [],
   "source": [
    "y_scores = lgbm_model_weight_balanced.predict_proba(X_test_balanced)[:,-1]"
   ]
  },
  {
   "cell_type": "code",
   "execution_count": null,
   "metadata": {},
   "outputs": [],
   "source": [
    "fpr_rf, tpr_rf, _ = roc_curve(y_test_balanced, y_scores)\n",
    "roc_auc_rf = auc(fpr_rf, tpr_rf)\n",
    "plt.figure(9, figsize=(8,8))\n",
    "plt.xlim([-0.01, 1.00])\n",
    "plt.ylim([-0.01, 1.00])\n",
    "plt.plot(fpr_rf, tpr_rf, lw=1, label='{} curve (AUC = {:0.2f})'.format('RF',roc_auc_rf))\n",
    "\n",
    "\n",
    "plt.xlabel('False Positive Rate', fontsize=16)\n",
    "plt.ylabel('True Positive Rate', fontsize=16)\n",
    "plt.title('ROC Curve of XGBoost', fontsize=16)\n",
    "plt.legend(loc='lower right', fontsize=13)\n",
    "plt.plot([0, 1], [0, 1], color='navy', lw=1, linestyle='--')\n",
    "plt.axes().set_aspect('equal')\n",
    "plt.show()"
   ]
  },
  {
   "cell_type": "code",
   "execution_count": null,
   "metadata": {},
   "outputs": [],
   "source": []
  }
 ],
 "metadata": {
  "kernelspec": {
   "display_name": "Python 3",
   "language": "python",
   "name": "python3"
  },
  "language_info": {
   "codemirror_mode": {
    "name": "ipython",
    "version": 3
   },
   "file_extension": ".py",
   "mimetype": "text/x-python",
   "name": "python",
   "nbconvert_exporter": "python",
   "pygments_lexer": "ipython3",
   "version": "3.8.8"
  }
 },
 "nbformat": 4,
 "nbformat_minor": 2
}
